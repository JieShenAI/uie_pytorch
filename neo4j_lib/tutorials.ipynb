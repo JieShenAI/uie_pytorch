{
 "cells": [
  {
   "cell_type": "markdown",
   "metadata": {},
   "source": [
    "## 参考资料\n",
    "* https://blog.csdn.net/qq_42644523/article/details/127438757"
   ]
  },
  {
   "cell_type": "code",
   "execution_count": 2,
   "metadata": {},
   "outputs": [],
   "source": [
    "from py2neo import Node, Relationship, Graph, NodeMatcher\n",
    "from jshen.io import load_yaml\n",
    "\n",
    "pwd = load_yaml(\"../.private/pwd.yaml\")[\"pwd\"]\n",
    "graph = Graph(\n",
    "    password=pwd\n",
    ")"
   ]
  },
  {
   "cell_type": "markdown",
   "metadata": {},
   "source": [
    "`graph = Graph(\"http://localhost:7474\",user =\"\",password='')` 会连接失败"
   ]
  },
  {
   "cell_type": "code",
   "execution_count": 3,
   "metadata": {},
   "outputs": [
    {
     "data": {
      "text/plain": [
       "Graph('bolt://localhost:7687')"
      ]
     },
     "execution_count": 3,
     "metadata": {},
     "output_type": "execute_result"
    }
   ],
   "source": [
    "graph"
   ]
  },
  {
   "cell_type": "markdown",
   "metadata": {},
   "source": [
    "## 基础类"
   ]
  },
  {
   "cell_type": "code",
   "execution_count": 21,
   "metadata": {},
   "outputs": [],
   "source": [
    "node3 = Node('Person', name='tony', age=25, weight=55)\n",
    "node4 = Node('Person', name='tom', age=23, weight=50, hight=170)\n",
    "graph.create(node3)\n",
    "graph.create(node4)"
   ]
  },
  {
   "cell_type": "code",
   "execution_count": 12,
   "metadata": {},
   "outputs": [
    {
     "name": "stdout",
     "output_type": "stream",
     "text": [
      "(:Person {name: 'Alice1'})\n",
      "(:Person {name: 'Bob'})\n"
     ]
    }
   ],
   "source": [
    "node1 = Node('Person', name='Alice1')\n",
    "node2 = Node('Person', name='Bob')\n",
    "print(node1)\n",
    "print(node2)"
   ]
  },
  {
   "cell_type": "code",
   "execution_count": 5,
   "metadata": {},
   "outputs": [],
   "source": [
    "# 若这个node没有id，调用删除删不掉，需要先查找到这个node，再删除\n",
    "graph.delete(node1)"
   ]
  },
  {
   "cell_type": "code",
   "execution_count": 22,
   "metadata": {},
   "outputs": [],
   "source": [
    "relation1 = Relationship(node1, 'KNOW', node2)\n",
    "relation2 = Relationship(node1, 'Friend', node2)\n",
    "graph.create(relation1)\n",
    "graph.create(relation2)"
   ]
  },
  {
   "cell_type": "code",
   "execution_count": 14,
   "metadata": {},
   "outputs": [
    {
     "name": "stdout",
     "output_type": "stream",
     "text": [
      "(_0:Person {name: 'Alice1'}) (_1:Person {name: 'Bob'}) (Alice1)-[:KNOW {}]->(Bob) (Alice1)-[:Friend {}]->(Bob)\n"
     ]
    }
   ],
   "source": [
    "print(node1, node2, relation1, relation2)"
   ]
  },
  {
   "cell_type": "markdown",
   "metadata": {},
   "source": [
    "删除所有节点和关系"
   ]
  },
  {
   "cell_type": "code",
   "execution_count": 8,
   "metadata": {},
   "outputs": [],
   "source": [
    "graph.delete_all()"
   ]
  },
  {
   "cell_type": "markdown",
   "metadata": {},
   "source": [
    "节点添加"
   ]
  },
  {
   "cell_type": "code",
   "execution_count": 7,
   "metadata": {},
   "outputs": [],
   "source": [
    "# graph.create(node1)"
   ]
  },
  {
   "cell_type": "code",
   "execution_count": 8,
   "metadata": {},
   "outputs": [],
   "source": [
    "graph.create(node2)"
   ]
  },
  {
   "cell_type": "markdown",
   "metadata": {},
   "source": [
    "关系添加"
   ]
  },
  {
   "cell_type": "code",
   "execution_count": 9,
   "metadata": {},
   "outputs": [],
   "source": [
    "graph.create(relation1)"
   ]
  },
  {
   "cell_type": "markdown",
   "metadata": {},
   "source": [
    "节点修改，修改node1的值"
   ]
  },
  {
   "cell_type": "code",
   "execution_count": 10,
   "metadata": {},
   "outputs": [
    {
     "name": "stdout",
     "output_type": "stream",
     "text": [
      "pre (_5:Person {age: 25, name: 'tony', weight: 55})\n",
      "change (_5:Person {age: 26, hight: 190, name: 'tony', weight: 55})\n"
     ]
    }
   ],
   "source": [
    "print(\"pre\", node1)\n",
    "node1['hight']=190\n",
    "node1['age']=26\n",
    "print(\"change\", node1)"
   ]
  },
  {
   "cell_type": "code",
   "execution_count": 11,
   "metadata": {},
   "outputs": [],
   "source": [
    "graph.push(node1)"
   ]
  },
  {
   "cell_type": "code",
   "execution_count": 12,
   "metadata": {},
   "outputs": [],
   "source": [
    "node1[\"name\"] = \"Jie\"\n",
    "graph.push(node1)"
   ]
  },
  {
   "cell_type": "code",
   "execution_count": 17,
   "metadata": {},
   "outputs": [
    {
     "name": "stdout",
     "output_type": "stream",
     "text": [
      "(_0:Person {name: 'Alice'})\n"
     ]
    }
   ],
   "source": [
    "new_node = NodeMatcher(graph).match(\"Person\", name=\"Alice\").first()\n",
    "print(new_node)"
   ]
  },
  {
   "cell_type": "markdown",
   "metadata": {},
   "source": [
    "(_0:Person {name: 'Alice'}) 前面_0表示该node的id为0"
   ]
  },
  {
   "cell_type": "code",
   "execution_count": 19,
   "metadata": {},
   "outputs": [
    {
     "name": "stdout",
     "output_type": "stream",
     "text": [
      "(_0:Person {name: 'Alice'})\n"
     ]
    }
   ],
   "source": [
    "print(new_node)"
   ]
  },
  {
   "cell_type": "code",
   "execution_count": 21,
   "metadata": {},
   "outputs": [],
   "source": [
    "new_node[\"name\"] = \"Alice1\"\n",
    "graph.push(new_node)"
   ]
  },
  {
   "cell_type": "code",
   "execution_count": 22,
   "metadata": {},
   "outputs": [
    {
     "name": "stdout",
     "output_type": "stream",
     "text": [
      "(:Person {name: 'Tom Hanks'})\n"
     ]
    }
   ],
   "source": [
    "node3 = Node(\"Person\", name=\"Tom Hanks\")\n",
    "print(node3)"
   ]
  },
  {
   "cell_type": "markdown",
   "metadata": {},
   "source": [
    "graph.create 调用之后，会改变node3，给node3添加了一个id属性"
   ]
  },
  {
   "cell_type": "code",
   "execution_count": 23,
   "metadata": {},
   "outputs": [
    {
     "name": "stdout",
     "output_type": "stream",
     "text": [
      "(_7:Person {name: 'Tom Hanks'})\n"
     ]
    }
   ],
   "source": [
    "graph.create(node3)\n",
    "print(node3)"
   ]
  },
  {
   "cell_type": "markdown",
   "metadata": {},
   "source": [
    "增加label"
   ]
  },
  {
   "cell_type": "code",
   "execution_count": 24,
   "metadata": {},
   "outputs": [
    {
     "name": "stdout",
     "output_type": "stream",
     "text": [
      "(_7:Person:Suspect:male {name: 'Tom Hanks'})\n"
     ]
    }
   ],
   "source": [
    "node3.update_labels(['male','Suspect'])\n",
    "print(node3)"
   ]
  },
  {
   "cell_type": "markdown",
   "metadata": {},
   "source": [
    "删除label"
   ]
  },
  {
   "cell_type": "code",
   "execution_count": 26,
   "metadata": {},
   "outputs": [
    {
     "name": "stdout",
     "output_type": "stream",
     "text": [
      "(_7:Person:male {name: 'Tom Hanks'})\n"
     ]
    }
   ],
   "source": [
    "node3.remove_label('Suspect')\n",
    "print(node3)"
   ]
  },
  {
   "cell_type": "code",
   "execution_count": 27,
   "metadata": {},
   "outputs": [
    {
     "name": "stdout",
     "output_type": "stream",
     "text": [
      "(_7:Person {name: 'Tom Hanks'})\n"
     ]
    }
   ],
   "source": [
    "node3.remove_label('male')\n",
    "print(node3)"
   ]
  },
  {
   "cell_type": "markdown",
   "metadata": {},
   "source": [
    "删除节点"
   ]
  },
  {
   "cell_type": "code",
   "execution_count": 28,
   "metadata": {},
   "outputs": [],
   "source": [
    "graph.delete(node3)"
   ]
  },
  {
   "cell_type": "markdown",
   "metadata": {},
   "source": [
    "删除关系"
   ]
  },
  {
   "cell_type": "code",
   "execution_count": null,
   "metadata": {},
   "outputs": [],
   "source": [
    "relation_matcher = RelationshipMatcher(graph) # 生成关系匹配器\n",
    "#；例子1 删除所有couple关系\n",
    "relations = relation_matcher.match(r_type='COUPLE')  # 可迭代对象\n",
    "for relation in relations:\n",
    "    graph.separate(relation)\n",
    "# 例子2 删除node1和node2的关系\n",
    "relations = relation_matcher.match([node1,node2])  # 可迭代对象\n",
    "for relation in relations:\n",
    "    graph.separate(relation)\n"
   ]
  },
  {
   "cell_type": "code",
   "execution_count": 17,
   "metadata": {},
   "outputs": [
    {
     "name": "stdout",
     "output_type": "stream",
     "text": [
      "(Alice1)-[:KNOW {}]->(Bob)\n"
     ]
    }
   ],
   "source": [
    "print(relation1)"
   ]
  },
  {
   "cell_type": "code",
   "execution_count": 19,
   "metadata": {},
   "outputs": [],
   "source": [
    "# 删除关系，若两节点间有多个关系，所有的关系都会被删除掉\n",
    "graph.delete(relation1)"
   ]
  },
  {
   "cell_type": "code",
   "execution_count": null,
   "metadata": {},
   "outputs": [],
   "source": []
  }
 ],
 "metadata": {
  "kernelspec": {
   "display_name": "venv",
   "language": "python",
   "name": "python3"
  },
  "language_info": {
   "codemirror_mode": {
    "name": "ipython",
    "version": 3
   },
   "file_extension": ".py",
   "mimetype": "text/x-python",
   "name": "python",
   "nbconvert_exporter": "python",
   "pygments_lexer": "ipython3",
   "version": "3.9.13"
  },
  "orig_nbformat": 4
 },
 "nbformat": 4,
 "nbformat_minor": 2
}
