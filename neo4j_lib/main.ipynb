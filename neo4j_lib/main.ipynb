{
 "cells": [
  {
   "cell_type": "code",
   "execution_count": 1,
   "metadata": {},
   "outputs": [],
   "source": [
    "from py2neo import Node, Relationship, Graph, NodeMatcher, RelationshipMatcher\n",
    "from jshen.io import load_yaml\n",
    "\n",
    "pwd = load_yaml(\"../.private/pwd.yaml\")[\"pwd\"]\n",
    "graph = Graph(\n",
    "    password=pwd\n",
    ")"
   ]
  },
  {
   "cell_type": "code",
   "execution_count": 2,
   "metadata": {},
   "outputs": [],
   "source": [
    "from jie import *"
   ]
  },
  {
   "cell_type": "code",
   "execution_count": 3,
   "metadata": {},
   "outputs": [],
   "source": [
    "ent1 = EntityLimit(\"大尺度生态空间\", \"任务\")\n",
    "ent2 = EntityLimit(\"北运河湿地公园\", \"Object\")\n",
    "rel = TripleLimit(ent1, ent2, \"包含\")"
   ]
  },
  {
   "cell_type": "code",
   "execution_count": 4,
   "metadata": {},
   "outputs": [
    {
     "name": "stdout",
     "output_type": "stream",
     "text": [
      "Triple(Entity(大尺度生态空间, 任务) - 包含 - Entity(北运河湿地公园, Object))\n"
     ]
    }
   ],
   "source": [
    "# Triple(Entity(大尺度生态空间, 任务) - 包含 - Entity(北运河湿地公园, Object))\n",
    "print(rel)"
   ]
  },
  {
   "cell_type": "code",
   "execution_count": 5,
   "metadata": {},
   "outputs": [],
   "source": [
    "node_matcher = NodeMatcher(graph)"
   ]
  },
  {
   "cell_type": "code",
   "execution_count": 25,
   "metadata": {},
   "outputs": [],
   "source": [
    "relation_matcher = RelationshipMatcher(graph) # 生成关系匹配器"
   ]
  },
  {
   "cell_type": "markdown",
   "metadata": {},
   "source": [
    "## 向neo4j添加数据"
   ]
  },
  {
   "cell_type": "markdown",
   "metadata": {},
   "source": [
    "查询某实体是否存在, 不存在则创建"
   ]
  },
  {
   "cell_type": "code",
   "execution_count": 19,
   "metadata": {},
   "outputs": [],
   "source": [
    "from typing import Union\n",
    "def find_entity(ent: EntityLimit) -> Union[None, EntityLimit]:\n",
    "    label = ent.type\n",
    "    d = deepcopy(ent.__dict__)\n",
    "    d.pop(\"type\")\n",
    "    return NodeMatcher(graph).match(label, **d).first()"
   ]
  },
  {
   "cell_type": "code",
   "execution_count": 9,
   "metadata": {},
   "outputs": [
    {
     "name": "stdout",
     "output_type": "stream",
     "text": [
      "None\n"
     ]
    }
   ],
   "source": [
    "print(find_entity(rel.subject))"
   ]
  },
  {
   "cell_type": "code",
   "execution_count": 16,
   "metadata": {},
   "outputs": [],
   "source": [
    "def create_node(graph, label, **kwargs):\n",
    "    node = Node(label, **kwargs)\n",
    "    graph.create(node)\n",
    "    return node"
   ]
  },
  {
   "cell_type": "code",
   "execution_count": 11,
   "metadata": {},
   "outputs": [],
   "source": [
    "from copy import deepcopy"
   ]
  },
  {
   "cell_type": "code",
   "execution_count": 20,
   "metadata": {},
   "outputs": [],
   "source": [
    "def get_node(ent: EntityLimit):\n",
    "    ent_node = find_entity(ent)\n",
    "    if ent_node:\n",
    "        return ent_node\n",
    "    if not find_entity(ent):\n",
    "        label = ent.type\n",
    "        d = deepcopy(ent.__dict__)\n",
    "        d.pop(\"type\")\n",
    "        return create_node(graph, label, **d)"
   ]
  },
  {
   "cell_type": "code",
   "execution_count": 21,
   "metadata": {},
   "outputs": [
    {
     "name": "stdout",
     "output_type": "stream",
     "text": [
      "(_0:任务 {text: '\\u5927\\u5c3a\\u5ea6\\u751f\\u6001\\u7a7a\\u95f4'})\n"
     ]
    }
   ],
   "source": [
    "sub = get_node(rel.subject)\n",
    "print(sub)"
   ]
  },
  {
   "cell_type": "code",
   "execution_count": 14,
   "metadata": {},
   "outputs": [
    {
     "name": "stdout",
     "output_type": "stream",
     "text": [
      "(_1:Object {text: '\\u5317\\u8fd0\\u6cb3\\u6e7f\\u5730\\u516c\\u56ed'})\n"
     ]
    }
   ],
   "source": [
    "obj = get_node(rel.object)\n",
    "print(obj)"
   ]
  },
  {
   "cell_type": "markdown",
   "metadata": {},
   "source": [
    "创建三元组"
   ]
  },
  {
   "cell_type": "code",
   "execution_count": 26,
   "metadata": {},
   "outputs": [],
   "source": [
    "# 查询两个实体间的关系是否存在\n",
    "relations = relation_matcher.match([sub, obj], r_type=\"包含\").first()  # 可迭代对象"
   ]
  },
  {
   "cell_type": "code",
   "execution_count": 50,
   "metadata": {},
   "outputs": [
    {
     "data": {
      "text/plain": [
       "包含(Node('任务', text='大尺度生态空间'), Node('Object', text='北运河湿地公园'))"
      ]
     },
     "execution_count": 50,
     "metadata": {},
     "output_type": "execute_result"
    }
   ],
   "source": [
    "relation_matcher.match([sub, obj], r_type=\"包含\").first()"
   ]
  },
  {
   "cell_type": "code",
   "execution_count": 27,
   "metadata": {},
   "outputs": [],
   "source": [
    "rel_t = Relationship(sub, rel.relation, obj)\n",
    "graph.create(rel_t)"
   ]
  },
  {
   "cell_type": "markdown",
   "metadata": {},
   "source": [
    "查询刚才创建的关系是否存在"
   ]
  },
  {
   "cell_type": "code",
   "execution_count": 28,
   "metadata": {},
   "outputs": [
    {
     "name": "stdout",
     "output_type": "stream",
     "text": [
      "(_0)-[:包含 {}]->(_1)\n"
     ]
    }
   ],
   "source": [
    "relations = relation_matcher.match([sub, obj])  # 可迭代对象\n",
    "for relation in relations:\n",
    "    print(relation)"
   ]
  },
  {
   "cell_type": "code",
   "execution_count": 29,
   "metadata": {},
   "outputs": [],
   "source": [
    "r = relation_matcher.match([sub, obj]).first()"
   ]
  },
  {
   "cell_type": "code",
   "execution_count": 30,
   "metadata": {},
   "outputs": [
    {
     "data": {
      "text/plain": [
       "包含(Node('任务', text='大尺度生态空间'), Node('Object', text='北运河湿地公园'))"
      ]
     },
     "execution_count": 30,
     "metadata": {},
     "output_type": "execute_result"
    }
   ],
   "source": [
    "r"
   ]
  },
  {
   "cell_type": "code",
   "execution_count": 31,
   "metadata": {},
   "outputs": [
    {
     "data": {
      "text/plain": [
       "{'_Walkable__sequence': (Node('任务', text='大尺度生态空间'),\n",
       "  包含(Node('任务', text='大尺度生态空间'), Node('Object', text='北运河湿地公园')),\n",
       "  Node('Object', text='北运河湿地公园')),\n",
       " '_Subgraph__nodes': frozenset({Node('任务', text='大尺度生态空间'),\n",
       "            Node('Object', text='北运河湿地公园')}),\n",
       " '_Subgraph__relationships': frozenset({包含(Node('任务', text='大尺度生态空间'), Node('Object', text='北运河湿地公园'))}),\n",
       " '__uuid__': '854f0a2a-f4f5-4355-be47-a1daba0e39cf',\n",
       " '_stale': set(),\n",
       " '_graph': Graph('bolt://localhost:7687'),\n",
       " 'identity': 0}"
      ]
     },
     "execution_count": 31,
     "metadata": {},
     "output_type": "execute_result"
    }
   ],
   "source": [
    "r.__dict__"
   ]
  },
  {
   "cell_type": "markdown",
   "metadata": {},
   "source": [
    "字符串以什么开头 startswith()"
   ]
  },
  {
   "cell_type": "code",
   "execution_count": 44,
   "metadata": {},
   "outputs": [],
   "source": [
    "attrs = [s for s in dir(r) if not s.startswith('_')]"
   ]
  },
  {
   "cell_type": "code",
   "execution_count": 47,
   "metadata": {},
   "outputs": [
    {
     "name": "stdout",
     "output_type": "stream",
     "text": [
      "clear <bound method Entity.clear of 包含(Node('任务', text='大尺度生态空间'), Node('Object', text='北运河湿地公园'))>\n",
      "copy <built-in method copy of 包含 object at 0x00000245D35939A0>\n",
      "end_node (_1:Object {text: '\\u5317\\u8fd0\\u6cb3\\u6e7f\\u5730\\u516c\\u56ed'})\n",
      "fromkeys <built-in method fromkeys of type object at 0x00000245CF141400>\n",
      "get <built-in method get of 包含 object at 0x00000245D35939A0>\n",
      "graph Graph('bolt://localhost:7687')\n",
      "identity 0\n",
      "items <built-in method items of 包含 object at 0x00000245D35939A0>\n",
      "keys <built-in method keys of 包含 object at 0x00000245D35939A0>\n",
      "labels <bound method Subgraph.labels of 包含(Node('任务', text='大尺度生态空间'), Node('Object', text='北运河湿地公园'))>\n",
      "nodes (Node('任务', text='大尺度生态空间'), Node('Object', text='北运河湿地公园'))\n",
      "pop <built-in method pop of 包含 object at 0x00000245D35939A0>\n",
      "popitem <built-in method popitem of 包含 object at 0x00000245D35939A0>\n",
      "ref <bound method Relationship.ref of <class 'py2neo.data.包含'>>\n",
      "relationships (包含(Node('任务', text='大尺度生态空间'), Node('Object', text='北运河湿地公园')),)\n",
      "setdefault <bound method PropertyDict.setdefault of 包含(Node('任务', text='大尺度生态空间'), Node('Object', text='北运河湿地公园'))>\n",
      "start_node (_0:任务 {text: '\\u5927\\u5c3a\\u5ea6\\u751f\\u6001\\u7a7a\\u95f4'})\n",
      "type <function Relationship.type at 0x00000245B8028D30>\n",
      "types <bound method Subgraph.types of 包含(Node('任务', text='大尺度生态空间'), Node('Object', text='北运河湿地公园'))>\n",
      "update <bound method PropertyDict.update of 包含(Node('任务', text='大尺度生态空间'), Node('Object', text='北运河湿地公园'))>\n",
      "values <built-in method values of 包含 object at 0x00000245D35939A0>\n"
     ]
    }
   ],
   "source": [
    "for att in attrs:\n",
    "    print(att, getattr(r, att))"
   ]
  },
  {
   "cell_type": "code",
   "execution_count": 48,
   "metadata": {},
   "outputs": [
    {
     "data": {
      "text/plain": [
       "(包含(Node('任务', text='大尺度生态空间'), Node('Object', text='北运河湿地公园')),)"
      ]
     },
     "execution_count": 48,
     "metadata": {},
     "output_type": "execute_result"
    }
   ],
   "source": [
    "r.relationships"
   ]
  },
  {
   "cell_type": "code",
   "execution_count": 49,
   "metadata": {},
   "outputs": [
    {
     "data": {
      "text/plain": [
       "tuple"
      ]
     },
     "execution_count": 49,
     "metadata": {},
     "output_type": "execute_result"
    }
   ],
   "source": [
    "type(r.relationships)"
   ]
  },
  {
   "cell_type": "code",
   "execution_count": null,
   "metadata": {},
   "outputs": [],
   "source": []
  }
 ],
 "metadata": {
  "kernelspec": {
   "display_name": "venv",
   "language": "python",
   "name": "python3"
  },
  "language_info": {
   "codemirror_mode": {
    "name": "ipython",
    "version": 3
   },
   "file_extension": ".py",
   "mimetype": "text/x-python",
   "name": "python",
   "nbconvert_exporter": "python",
   "pygments_lexer": "ipython3",
   "version": "3.9.13"
  },
  "orig_nbformat": 4
 },
 "nbformat": 4,
 "nbformat_minor": 2
}
